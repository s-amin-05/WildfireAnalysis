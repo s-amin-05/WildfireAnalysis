{
 "cells": [
  {
   "cell_type": "code",
   "execution_count": 13,
   "id": "ba63236b-cd53-42ae-b7b7-d118fb2b19ad",
   "metadata": {},
   "outputs": [
    {
     "name": "stdout",
     "output_type": "stream",
     "text": [
      "done\n"
     ]
    }
   ],
   "source": [
    "# Rename dataframe columns (remove suffix 1)\n",
    "import pandas as pd\n",
    "\n",
    "file1 = 'data/DATA1.csv'\n",
    "file2 = 'data/DATA2.csv'\n",
    "file3 = 'data/DATA3.csv'\n",
    "\n",
    "df1 = pd.read_csv(file1)\n",
    "df2 = pd.read_csv(file2)\n",
    "df3 = pd.read_csv(file3)\n",
    "\n",
    "\n",
    "renamed_values = {\n",
    "    \"NDVI1\": \"NDVI\",\n",
    "    \"ELEVATION1\": \"ELEVATION\",\n",
    "    'SLOPE1': 'SLOPE',\n",
    "    'ASPECT1': 'ASPECT', \n",
    "    'AWND1': 'AWND',\n",
    "    'TMAX1': 'TMAX',\n",
    "    'TMIN1': 'TMIN',\n",
    "    'WDF21': 'WDF2', \n",
    "    'WSF21': 'WSF2',\n",
    "    'WILDFIRE1': 'WILDFIRE'\n",
    "}\n",
    "df1 = df1.rename(renamed_values, axis=1)\n",
    "df2 = df2.rename(renamed_values, axis=1)\n",
    "df3 = df3.rename(renamed_values, axis=1)\n",
    "print(\"done\")"
   ]
  },
  {
   "cell_type": "code",
   "execution_count": 15,
   "id": "b6bbf111-5e5d-4ea7-a70d-92765cca90d8",
   "metadata": {},
   "outputs": [
    {
     "name": "stdout",
     "output_type": "stream",
     "text": [
      "done\n"
     ]
    }
   ],
   "source": [
    "# Fill wildfire NaN values to 0\n",
    "\n",
    "df1['WILDFIRE'] = df1['WILDFIRE'].fillna(0)\n",
    "df2['WILDFIRE'] = df2['WILDFIRE'].fillna(0)\n",
    "df3['WILDFIRE'] = df3['WILDFIRE'].fillna(0)\n",
    "print(\"done\")"
   ]
  },
  {
   "cell_type": "code",
   "execution_count": 17,
   "id": "13bc5148-7c26-4ff6-838a-32becf92de59",
   "metadata": {},
   "outputs": [
    {
     "name": "stdout",
     "output_type": "stream",
     "text": [
      "     id    LATITUDE   LONGITUDE  ...       WDF2      WSF2  WILDFIRE\n",
      "0  1404  3854399.13  326799.269  ...  62.332275  6.885056       0.0\n",
      "1  1405  3854399.13  326889.269  ...  62.307400  6.897952       0.0\n",
      "2  1406  3854399.13  326979.269  ...  62.282536  6.910914       0.0\n",
      "3  1407  3854399.13  327069.269  ...  62.257671  6.923944       0.0\n",
      "4  1408  3854399.13  327159.269  ...  62.232819  6.937040       0.0\n",
      "\n",
      "[5 rows x 14 columns]\n",
      "     id    LATITUDE   LONGITUDE  ...        WDF2      WSF2  WILDFIRE\n",
      "0  1404  3854399.13  326799.269  ...  185.020447  3.711546       0.0\n",
      "1  1405  3854399.13  326889.269  ...  185.292389  3.715155       0.0\n",
      "2  1406  3854399.13  326979.269  ...  185.565826  3.718787       0.0\n",
      "3  1407  3854399.13  327069.269  ...  185.840729  3.722440       0.0\n",
      "4  1408  3854399.13  327159.269  ...  186.117142  3.726115       0.0\n",
      "\n",
      "[5 rows x 14 columns]\n",
      "     id    LATITUDE   LONGITUDE  ...       WDF2      WSF2  WILDFIRE\n",
      "0  1404  3854399.13  326799.269  ...  69.524773  5.871285       0.0\n",
      "1  1405  3854399.13  326889.269  ...  69.505089  5.879456       0.0\n",
      "2  1406  3854399.13  326979.269  ...  69.485420  5.887671       0.0\n",
      "3  1407  3854399.13  327069.269  ...  69.465775  5.895930       0.0\n",
      "4  1408  3854399.13  327159.269  ...  69.446144  5.904235       0.0\n",
      "\n",
      "[5 rows x 14 columns]\n"
     ]
    }
   ],
   "source": [
    "print(df1.head())\n",
    "print(df2.head())\n",
    "print(df3.head())"
   ]
  },
  {
   "cell_type": "code",
   "execution_count": 12,
   "id": "bf6dccb2-6620-4855-b984-ab9ed52e75a3",
   "metadata": {},
   "outputs": [],
   "source": [
    "df2 = pd.read_csv('data/DATA2.csv')\n",
    "\n",
    "df2 = df2.rename({'LATITUDE\\n': 'LATITUDE'}, axis=1)\n",
    "df2.to_csv('data/DATA2.csv', index=False)"
   ]
  },
  {
   "cell_type": "code",
   "execution_count": 16,
   "id": "5df84637-1484-4855-98cc-fa8127c69228",
   "metadata": {},
   "outputs": [
    {
     "name": "stdout",
     "output_type": "stream",
     "text": [
      "done\n"
     ]
    }
   ],
   "source": [
    "# Save to new csv file\n",
    "df1.to_csv('data/data1.csv', index=False)\n",
    "df2.to_csv('data/data2.csv', index=False)\n",
    "df3.to_csv('data/data3.csv', index=False)\n",
    "print(\"done\")"
   ]
  },
  {
   "cell_type": "markdown",
   "id": "a254b08c-59df-41f3-a3fb-0b54493f1da9",
   "metadata": {},
   "source": [
    "### Grouped mean filling of non-target features having NaN values\n",
    " Make sure that data has same column names and target doesn't have NaN values"
   ]
  },
  {
   "cell_type": "code",
   "execution_count": 1,
   "id": "a8dd7253-b48f-4cff-8288-694f19691418",
   "metadata": {},
   "outputs": [
    {
     "name": "stdout",
     "output_type": "stream",
     "text": [
      "17689322\n",
      "17689322\n",
      "17689322\n"
     ]
    }
   ],
   "source": [
    "# Show processed data\n",
    "# print(\"data1\")\n",
    "# print(df1.head())\n",
    "# print(\"data2\")\n",
    "# print(df2.head())\n",
    "# print(\"data3\")\n",
    "# print(df3.head())\n",
    "import pandas as pd \n",
    "\n",
    "file1 = 'data/DATA1.csv'\n",
    "file2 = 'data/DATA2.csv'\n",
    "file3 = 'data/DATA3.csv'\n",
    "\n",
    "df1 = pd.read_csv(file1)\n",
    "df2 = pd.read_csv(file2)\n",
    "df3 = pd.read_csv(file3)\n",
    "\n",
    "print(df1.size)\n",
    "print(df2.size)\n",
    "print(df3.size)\n"
   ]
  },
  {
   "cell_type": "code",
   "execution_count": 16,
   "id": "85a12998-579c-43bd-9c43-c5fd58776043",
   "metadata": {},
   "outputs": [],
   "source": [
    "import pandas as pd\n",
    "df_1 = pd.read_csv('data/joinedlayer1.csv')\n",
    "\n",
    "df_1.loc[df_1['WILDFIRE'] > 0, 'CLASS'] = df_1['WILDFIRE'].apply(\n",
    "    lambda x: 3 if x > 1000 else 2\n",
    ")\n",
    "\n",
    "df_1.loc[df_1['WILDFIRE'] == 0, 'CLASS'] = 1\n",
    "\n",
    "# Convert CLASS to integer (optional, removes decimals if any)\n",
    "df_1['CLASS'] = df_1['CLASS'].astype(int)\n",
    "\n",
    "df_1.head()\n",
    "\n",
    "df_1.to_csv('data/new1.csv', index=False)"
   ]
  }
 ],
 "metadata": {
  "kernelspec": {
   "display_name": "Python 3 (ipykernel)",
   "language": "python",
   "name": "python3"
  },
  "language_info": {
   "codemirror_mode": {
    "name": "ipython",
    "version": 3
   },
   "file_extension": ".py",
   "mimetype": "text/x-python",
   "name": "python",
   "nbconvert_exporter": "python",
   "pygments_lexer": "ipython3",
   "version": "3.13.2"
  }
 },
 "nbformat": 4,
 "nbformat_minor": 5
}
