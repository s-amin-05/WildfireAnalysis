{
  "cells": [
   {
    "cell_type": "code",
    "execution_count": 1,
    "id": "2e1fe760-7dd2-492f-b7a9-27012d788699",
    "metadata": {},
    "outputs": [],
    "source": [
     "import pandas as pd\n",
     "from sklearn.model_selection import train_test_split\n",
     "from sklearn.ensemble import RandomForestClassifier\n",
     "from sklearn.metrics import classification_report, accuracy_score\n",
     "import joblib\n"
    ]
   },
   {
    "cell_type": "code",
    "execution_count": 2,
    "id": "19a6e292-53fd-4fd8-ba15-1e3f70c28e06",
    "metadata": {},
    "outputs": [],
    "source": [
     "df = pd.read_csv('data/finaldata.csv') "
    ]
   },
   {
    "cell_type": "code",
    "execution_count": 3,
    "id": "8caf1e50-c900-46a9-ac62-6863453b9013",
    "metadata": {},
    "outputs": [],
    "source": [
     "X_columns = ['LATITUDE', 'LONGITUDE', 'YEAR', 'MONTH', 'NDVI', 'ELEVATION', 'SLOPE', 'TMAX', 'TMIN', 'WDF2', 'WSF2']\n",
     "y_column = 'CLASS'\n",
     "\n",
     "X = df[X_columns]\n",
     "y = df[y_column]"
    ]
   },
   {
    "cell_type": "code",
    "execution_count": 4,
    "id": "a6b04c96-1a8b-4f8c-8556-6d4a2a952497",
    "metadata": {},
    "outputs": [],
    "source": [
     "X_train, X_test, y_train, y_test = train_test_split(\n",
     "    X, y, test_size=0.2, random_state=42\n",
     ")"
    ]
   },
   {
    "cell_type": "code",
    "execution_count": null,
    "id": "8320cea0-d166-4a3a-8d26-b75b901126b8",
    "metadata": {},
    "outputs": [],
    "source": [
     "model = RandomForestClassifier(n_estimators=100, random_state=42)\n",
     "model.fit(X_train, y_train)"
    ]
   },
   {
    "cell_type": "code",
    "execution_count": null,
    "id": "54fe2094-e33b-491c-9b4a-695b91a3caa2",
    "metadata": {},
    "outputs": [],
    "source": [
     "y_pred = model.predict(X_test)"
    ]
   },
   {
    "cell_type": "code",
    "execution_count": null,
    "id": "e56eb4f1-0a33-4bec-9f42-064bf78b5506",
    "metadata": {},
    "outputs": [],
    "source": [
     "print(\"Accuracy:\", accuracy_score(y_test, y_pred))\n",
     "print(\"\\nClassification Report:\\n\", classification_report(y_test, y_pred))"
    ]
   },
   {
    "cell_type": "code",
    "execution_count": null,
    "id": "758c46f1-6d3e-4a97-97a3-db1c41e5273b",
    "metadata": {},
    "outputs": [],
    "source": [
     "joblib.dump(model, 'random_forest_model.pkl')\n",
     "print(\"Random Forest model saved as 'random_forest_model.pkl'\")"
    ]
   }
  ],
  "metadata": {
   "kernelspec": {
    "display_name": "Python 3 (ipykernel)",
    "language": "python",
    "name": "python3"
   },
   "language_info": {
    "codemirror_mode": {
     "name": "ipython",
     "version": 3
    },
    "file_extension": ".py",
    "mimetype": "text/x-python",
    "name": "python",
    "nbconvert_exporter": "python",
    "pygments_lexer": "ipython3",
    "version": "3.13.2"
   }
  },
  "nbformat": 4,
  "nbformat_minor": 5
 }
